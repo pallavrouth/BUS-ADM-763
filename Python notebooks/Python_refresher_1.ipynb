{
  "cells": [
    {
      "cell_type": "markdown",
      "metadata": {
        "id": "vnu_ckvezWdu"
      },
      "source": [
        "***Variables***\n",
        "\n",
        "A variable is a symbolic name or identifier that is used to store data. It acts as a reference to a memory location where a value is stored. You can think of a variable as a container that holds a value, which can be of various data types, such as numbers, strings, lists, or even more complex objects.\n",
        "\n",
        "**Key features** -\n",
        "- *Naming Rules*:\n",
        "  - They must start with a letter (a-z, A-Z) or an underscore `_`.\n",
        "  - They can contain letters, digits (0-9), and underscores.\n",
        "  - Variable names are case-sensitive (myVariable and myvariable are considered different names).\n",
        "- *Assignment*: You assign a value to a variable using the assignment operator `=`. The value on the right is stored in the variable on the left.\n",
        "- *Reassignment*: You can change the value of a variable by assigning a new value to it."
      ]
    },
    {
      "cell_type": "markdown",
      "metadata": {
        "id": "Kgt9kEX33Zfc"
      },
      "source": [
        "Some examples of invalid variable names\n",
        "- `first-name`\n",
        "- `first@name`  \n",
        "- `first$name`  \n",
        "- `num-1`  \n",
        "- `1num`\n"
      ]
    },
    {
      "cell_type": "markdown",
      "metadata": {
        "id": "AA7cHG4T0GoS"
      },
      "source": [
        "We will use standard Python variable naming style which has been adopted by many Python developers. Python developers use snake case (snake_case) variable naming convention. We use underscore character after each word for a variable containing more than one word(eg. marketing_campaign, engagement_metric). The example below is an example of standard naming of variables, underscore is required when the variable name is more than one word."
      ]
    },
    {
      "cell_type": "markdown",
      "metadata": {
        "id": "dpwCcpK40M3n"
      },
      "source": [
        "When we assign a certain data type to a variable, it is called variable declaration. For instance in the example below my first name is assigned to a variable first_name. The equal sign is an assignment operator. Assigning means storing data in the variable. The equal sign in Python is not equality as in Mathematics."
      ]
    },
    {
      "cell_type": "code",
      "execution_count": null,
      "metadata": {},
      "outputs": [],
      "source": [
        "from pprint import pprint"
      ]
    },
    {
      "cell_type": "code",
      "execution_count": null,
      "metadata": {
        "id": "3fenLQ2U0H3Y"
      },
      "outputs": [],
      "source": [
        "first_name = 'Pallav'\n",
        "last_name = 'Routh'\n",
        "city = 'Milwaukee'\n",
        "state = 'Wisconsin'\n",
        "age = 25\n",
        "height = 170\n",
        "# Declaring multiple variables\n",
        "first_name, last_name, city, state, age, height = 'Pallav', 'Routh', 'Milwaukee', 'Wisconsin', 25, 170"
      ]
    },
    {
      "cell_type": "markdown",
      "metadata": {
        "id": "5-4vt3_P01iT"
      },
      "source": [
        "***Built in functions***\n",
        "\n",
        "Built-in functions in Python are pre-defined functions that are available for use without the need to import any external modules. These functions are an essential part of the Python programming language and provide a wide range of functionalities for performing common tasks. Built-in functions cover various areas such as data conversion, mathematical operations, string manipulation, list manipulation, input/output operations, and more.\n",
        "\n",
        "We will use these built in functions through the course: Some common ones are `print()` for printing and `len()` for checking the length of python objects. Here is a complete list - https://docs.python.org/3/library/functions.html"
      ]
    },
    {
      "cell_type": "code",
      "execution_count": null,
      "metadata": {},
      "outputs": [],
      "source": [
        "print('First name:', first_name)"
      ]
    },
    {
      "cell_type": "code",
      "execution_count": null,
      "metadata": {},
      "outputs": [],
      "source": [
        "print('Last name: ', last_name)"
      ]
    },
    {
      "cell_type": "code",
      "execution_count": null,
      "metadata": {},
      "outputs": [],
      "source": [
        "print('City: ', city)"
      ]
    },
    {
      "cell_type": "code",
      "execution_count": null,
      "metadata": {},
      "outputs": [],
      "source": [
        "print('Age: ', age)"
      ]
    },
    {
      "cell_type": "code",
      "execution_count": null,
      "metadata": {
        "id": "jOg-o3pE1pQa"
      },
      "outputs": [],
      "source": [
        "print('Height: ', height)"
      ]
    },
    {
      "cell_type": "markdown",
      "metadata": {
        "id": "28PRLzmR36PL"
      },
      "source": [
        "***Data types***\n",
        "\n",
        "In Python, data types specify the type of value that a variable can hold. Each value in Python has a corresponding data type that defines the type of operations that can be performed on it and the memory layout used to store it. Python is a dynamically typed language, meaning you don't need to explicitly declare the data type of a variable; the interpreter infers it based on the value assigned to the variable.\n",
        "\n",
        "1. **Numeric Types:** Integer type, representing whole numbers or floating-point type, representing decimal numbers.\n",
        "2. **Text Type:** String type, representing sequences of characters (text).\n",
        "3. **Sequence Types:** list type or tuple type\n",
        "4. **Mapping Type:** Dictionary type, representing a collection of key-value pairs.\n",
        "5. **Boolean Type:** True or False values."
      ]
    },
    {
      "cell_type": "code",
      "execution_count": null,
      "metadata": {},
      "outputs": [],
      "source": [
        "print('This is an example of an integer: ',3)\n",
        "print(type(3))"
      ]
    },
    {
      "cell_type": "code",
      "execution_count": null,
      "metadata": {},
      "outputs": [],
      "source": [
        "print('This is an example of a float: ',3.14)\n",
        "print(type(3.14))"
      ]
    },
    {
      "cell_type": "code",
      "execution_count": null,
      "metadata": {},
      "outputs": [],
      "source": [
        "print('This is an example of a string type: ','BUS ADM xxx')\n",
        "print(type('Hello World'))"
      ]
    },
    {
      "cell_type": "code",
      "execution_count": null,
      "metadata": {},
      "outputs": [],
      "source": [
        "print(\"This is an example of a list\", ['Social Media', 'Content Marketing', 'Email Campaigns'])\n",
        "print(type(['Social Media', 'Content Marketing', 'Email Campaigns']))"
      ]
    },
    {
      "cell_type": "code",
      "execution_count": null,
      "metadata": {},
      "outputs": [],
      "source": [
        "print(\"This is an example of a dictionary: \",{'customer_name': 'John Doe', 'customer_age': 29, 'loyalty_status':True})\n",
        "print(type({'customer_name': 'John Doe', 'customer_age': 29, 'loyalty_status':True}))"
      ]
    },
    {
      "cell_type": "markdown",
      "metadata": {
        "id": "AAo_nPw-4WZO"
      },
      "source": [
        "**Type casting**\n",
        "\n",
        "Data type conversion, also known as type casting, involves changing the data type of a value to another type. Python provides built-in functions and methods to perform various types of data type conversions."
      ]
    },
    {
      "cell_type": "code",
      "execution_count": null,
      "metadata": {},
      "outputs": [],
      "source": [
        "# integer to float\n",
        "integer_number = 5\n",
        "float_number = float(integer_number)\n",
        "print(float_number)"
      ]
    },
    {
      "cell_type": "code",
      "execution_count": null,
      "metadata": {},
      "outputs": [],
      "source": [
        "# float to integer\n",
        "float_number = 3.14\n",
        "integer_number = int(float_number)\n",
        "print(integer_number)"
      ]
    },
    {
      "cell_type": "code",
      "execution_count": null,
      "metadata": {},
      "outputs": [],
      "source": [
        "# string to integer or float\n",
        "string_number = \"123\"\n",
        "integer_value = int(string_number)\n",
        "float_value = float(string_number)\n",
        "print(\"Integer is \",integer_value)\n",
        "print(\"Floating point is\", float_value)"
      ]
    },
    {
      "cell_type": "code",
      "execution_count": null,
      "metadata": {
        "id": "ZsHieorx4XzN"
      },
      "outputs": [],
      "source": [
        "# integer or float to string\n",
        "integer_number = 42\n",
        "float_number = 3.14\n",
        "string_integer = str(integer_number)\n",
        "string_float = str(float_number)\n",
        "print(\"String representation of integer \",string_integer)\n",
        "print(\"String representation of float \",string_float)"
      ]
    },
    {
      "cell_type": "markdown",
      "metadata": {
        "id": "UijXOKaRgKQB"
      },
      "source": [
        "***Strings***\n",
        "\n",
        "**Creating strings**\n",
        "\n",
        "Text is a string data type. Any data type written as text is a string. Any data under single, double or triple quote are strings. There are different string methods and built-in functions to deal with string data types. To check the length of a string use the len() method."
      ]
    },
    {
      "cell_type": "code",
      "execution_count": null,
      "metadata": {},
      "outputs": [],
      "source": [
        "letter = 'X'\n",
        "print(\"The letter is \",letter)\n",
        "print(\"The length of the letter is \",len(letter))"
      ]
    },
    {
      "cell_type": "code",
      "execution_count": null,
      "metadata": {
        "id": "_PX9Ho3NfuXF"
      },
      "outputs": [],
      "source": [
        "sentence = \"I hope you are enjoying Marketing Analytics.\"\n",
        "print(\"The sentence is: \",sentence)\n",
        "print(\"The length of the sentence is \",len(sentence))"
      ]
    },
    {
      "cell_type": "markdown",
      "metadata": {
        "id": "8WLCxFa15a_n"
      },
      "source": [
        "Multiline string is created by using triple single `'''` or triple double quotes `\"\"\"`."
      ]
    },
    {
      "cell_type": "code",
      "execution_count": null,
      "metadata": {},
      "outputs": [],
      "source": [
        "multiline_string = '''I am a professor in the marketing department at Lubar.\n",
        "I am enjoying teaching BUS ADM xxx.\n",
        "This is day 1 of the course.\n",
        "'''\n",
        "print(multiline_string)"
      ]
    },
    {
      "cell_type": "code",
      "execution_count": null,
      "metadata": {
        "id": "hZqthYGA5bY5"
      },
      "outputs": [],
      "source": [
        "# Another way of doing the same thing\n",
        "multiline_string = \"\"\"I am a professor in the marketing department at Lubar.\n",
        "I am enjoying teaching BUS ADM xxx.\n",
        "This is day 1 of the course.\"\"\"\n",
        "print(multiline_string)"
      ]
    },
    {
      "cell_type": "markdown",
      "metadata": {
        "id": "vQJZ5VBN58nL"
      },
      "source": [
        "**String concatenation**"
      ]
    },
    {
      "cell_type": "code",
      "execution_count": null,
      "metadata": {
        "id": "3Jg7wfVY6Eu1"
      },
      "outputs": [],
      "source": [
        "first_name = 'Pallav'\n",
        "last_name = 'Routh'\n",
        "full_name = first_name  +  ' ' + last_name\n",
        "print(full_name)"
      ]
    },
    {
      "cell_type": "markdown",
      "metadata": {
        "id": "uZCMiRGK7AKQ"
      },
      "source": [
        "**String formatting**\n",
        "\n",
        "In Python there are many ways of formatting strings. String formatting in Python is useful when you need to create formatted strings that include variable values, constants, or expressions. It allows you to construct strings dynamically by combining text and data in a more readable and organized manner. There are various ways of formatting strings - using the `%` operator, using the `format()` method. The newest way is to use \"f\" strings."
      ]
    },
    {
      "cell_type": "code",
      "execution_count": null,
      "metadata": {
        "id": "agqHD-Ez84vm"
      },
      "outputs": [],
      "source": [
        "first_name = 'Pallav'\n",
        "last_name = 'Routh'\n",
        "course_name = 'BUS ADM xxx'\n",
        "formated_string = f\"My name is {first_name} {last_name}. I teach {course_name} at UWM Lubar College of Business.\"\n",
        "print(formated_string)"
      ]
    },
    {
      "cell_type": "markdown",
      "metadata": {
        "id": "7DtDdNUu-JDk"
      },
      "source": [
        "***Methods***\n",
        "\n",
        "Built-in functions, as the name suggests, are functions that are provided by Python itself and are available for use without the need to import additional modules. These functions cover a wide range of general-purpose operations **and are not associated with any specific object or class**. For example `len()` and `print()`.\n",
        "\n",
        "On the other hand, a **method is a function that is associated with an object**. Methods are defined within classes and operate on the data (attributes) of instances (objects) of that class.\n",
        "\n",
        "Another key difference is that to call a function, you use the function's name followed by parentheses (`function_name()`). To call a method, you use the variable's name, followed by a dot (.), then the method name and parentheses (`variable_name.method_name()`).\n",
        "\n",
        "Later we will learn how methods are associated with \"objects\" and how it forms a key part of object oriented programming unique to python.\n",
        "\n",
        "Here are some examples of some methods on string class -\n"
      ]
    },
    {
      "cell_type": "code",
      "execution_count": null,
      "metadata": {},
      "outputs": [],
      "source": [
        "# capitalize strings - and lower() and upper()\n",
        "greeting = 'Hello, World!'\n",
        "print(greeting.capitalize())"
      ]
    },
    {
      "cell_type": "code",
      "execution_count": null,
      "metadata": {},
      "outputs": [],
      "source": [
        "# split strings according to a separator\n",
        "greeting = 'Hello, World!'\n",
        "print(greeting.split())"
      ]
    },
    {
      "cell_type": "code",
      "execution_count": null,
      "metadata": {},
      "outputs": [],
      "source": [
        "greeting = 'Hello, World!'\n",
        "print(greeting.split(', '))"
      ]
    },
    {
      "cell_type": "code",
      "execution_count": null,
      "metadata": {},
      "outputs": [],
      "source": [
        "# trim white spaces\n",
        "greeting = ' Hello, World! '\n",
        "print(greeting.strip())"
      ]
    },
    {
      "cell_type": "code",
      "execution_count": null,
      "metadata": {
        "id": "cA4jVJbC-US3"
      },
      "outputs": [],
      "source": [
        "# replace words/characters\n",
        "greeting = 'Hello, World!'\n",
        "print(greeting.replace(\"World\",\"Python\"))"
      ]
    },
    {
      "cell_type": "markdown",
      "metadata": {
        "id": "41YIlLyxaeQd"
      },
      "source": [
        "**Method chaining**\n",
        "\n",
        "Method chaining, also known as method cascading is a technique where multiple method calls are chained together in a single expression. Each method call returns an object, which allows you to immediately call another method on the result, creating a sequence of operations that are executed in a linear fashion. Later we will see how it can be effectively used for data manipulation."
      ]
    },
    {
      "cell_type": "code",
      "execution_count": null,
      "metadata": {
        "id": "0_jwFIA4ad-t"
      },
      "outputs": [],
      "source": [
        "greeting = ' Hello, World! '\n",
        "print(greeting.strip().replace(\"World\",\"Python\"))"
      ]
    },
    {
      "cell_type": "markdown",
      "metadata": {
        "id": "JeZa-_CAGOiW"
      },
      "source": [
        "***Operators***\n",
        "\n",
        "**Assignment operators**\n",
        "\n",
        "We have already seen the assignment operator which is used to assign a value to variable. There are also arithmetic operators used for performing common mathematic operations.\n",
        "\n",
        "**Arithmetic operators**\n",
        "\n",
        "- Addition: `a + b`\n",
        "- Subtraction: `a - b`\n",
        "- Multiplication: `a * b`\n",
        "- Division: `a / b`\n",
        "- Modulus: `a % b`\n",
        "- Floor division: `a // b`\n",
        "- Exponentiation: `a ** b`"
      ]
    },
    {
      "cell_type": "code",
      "execution_count": null,
      "metadata": {},
      "outputs": [],
      "source": [
        "a = 3\n",
        "b = 2"
      ]
    },
    {
      "cell_type": "code",
      "execution_count": null,
      "metadata": {},
      "outputs": [],
      "source": [
        "# Arithmetic operations and assigning the result to a variable\n",
        "print(\"Addition: \", a + b)\n",
        "print(\"Difference: \",a - b)\n",
        "print(\"Product: \",a * b)\n",
        "print(\"Division: \",a / b)\n",
        "print(\"Remainder of division is: \", a % b)\n",
        "print(\"Exponential: \",a ** b)"
      ]
    },
    {
      "cell_type": "code",
      "execution_count": null,
      "metadata": {},
      "outputs": [],
      "source": [
        "# Calculate the total revenue from a product\n",
        "unit_price = 10.99\n",
        "units_sold = 1500\n",
        "total_revenue = unit_price * units_sold\n",
        "print('Total Revenue:', total_revenue)"
      ]
    },
    {
      "cell_type": "code",
      "execution_count": null,
      "metadata": {},
      "outputs": [],
      "source": [
        "# Calculate the conversion rate of a marketing campaign\n",
        "visitors = 10000\n",
        "conversions = 800\n",
        "conversion_rate = (conversions / visitors) * 100\n",
        "print('Conversion Rate:', conversion_rate, '%')"
      ]
    },
    {
      "cell_type": "code",
      "execution_count": null,
      "metadata": {},
      "outputs": [],
      "source": [
        "# Calculate the return on investment (ROI) for an advertising campaign\n",
        "initial_investment = 5000\n",
        "net_profit = 1500\n",
        "roi = ((net_profit - initial_investment) / initial_investment) * 100\n",
        "print('ROI:', roi, '%')"
      ]
    },
    {
      "cell_type": "code",
      "execution_count": null,
      "metadata": {},
      "outputs": [],
      "source": [
        "# Calculate the click-through rate (CTR) of an email campaign\n",
        "emails_sent = 5000\n",
        "clicks = 300\n",
        "ctr = (clicks / emails_sent) * 100\n",
        "print('Click-Through Rate:', ctr, '%')"
      ]
    },
    {
      "cell_type": "markdown",
      "metadata": {
        "id": "DG_PUHpALgY1"
      },
      "source": [
        "**Comparison operator**\n",
        "\n",
        "In programming we compare values, we use comparison operators to compare two values. We check if a value is greater or less or equal to other value. Here is a list - [w3school](https://www.w3schools.com/python/python_operators.asp)"
      ]
    },
    {
      "cell_type": "code",
      "execution_count": null,
      "metadata": {},
      "outputs": [],
      "source": [
        "print(\"3 > 2: \",3 > 2)\n",
        "print(\"3 >= 2: \",3 >= 2)\n",
        "print(\"3 < 2: \",3 < 2)\n",
        "print(\"2 < 3: \",2 < 3)\n",
        "print(\"2 <= 3: \",2 <= 3)\n",
        "print(\"3 == 2: \",3 == 2)\n",
        "print(\"3 != 2: \",3 != 2)"
      ]
    },
    {
      "cell_type": "code",
      "execution_count": null,
      "metadata": {
        "id": "FCdUAgU6L7zC"
      },
      "outputs": [],
      "source": [
        "# Comparing something gives either a True or False\n",
        "print('True == True: ', True == True)\n",
        "print('True == False: ', True == False)\n",
        "print('False == False:', False == False)"
      ]
    },
    {
      "cell_type": "markdown",
      "metadata": {
        "id": "mCW1Nr3tMbbO"
      },
      "source": [
        "In addition to the above comparison operator Python uses:\n",
        "\n",
        "- `is`: Returns true if both variables are the same object(x is y)\n",
        "- `is not`: Returns true if both variables are not the same object(x is not y)\n",
        "- `in`: Returns True if the queried list contains a certain item(x in y)\n",
        "- `not in`: Returns True if the queried list doesn't have a certain item(x in y)"
      ]
    },
    {
      "cell_type": "code",
      "execution_count": null,
      "metadata": {
        "id": "WEkqNHctMJ75"
      },
      "outputs": [],
      "source": [
        "print('C in Customer', 'M' in 'Customer')\n",
        "print('a in an:', 'a' in 'an')"
      ]
    },
    {
      "cell_type": "markdown",
      "metadata": {
        "id": "zGNXBiojM6aw"
      },
      "source": [
        "**Logical operators**"
      ]
    },
    {
      "cell_type": "code",
      "execution_count": null,
      "metadata": {
        "id": "MPM1e7EBM9Bb"
      },
      "outputs": [],
      "source": [
        "print(\"3 > 2 and 4 > 3: \",3 > 2 and 4 > 3)\n",
        "print(\"3 > 2 and 4 < 3: \",3 > 2 and 4 < 3)"
      ]
    },
    {
      "cell_type": "markdown",
      "metadata": {
        "id": "tWpSzVldNgau"
      },
      "source": [
        "***Lists***\n",
        "\n",
        "A list is a built-in data type that represents an ordered collection of items. Lists are incredibly versatile and one of the most commonly used data structures in Python. They allow you to store multiple values in a single variable, and you can access, modify, and manipulate these values easily.\n",
        "\n",
        "- Lists **maintain the order** of elements as they are added. The order of elements is preserved, and you can access elements by their index.\n",
        "- Lists **are mutable**, which means you can change, add, or remove elements after the list is created.\n",
        "- A list **can contain elements of different data types**, such as integers, strings, floats, and even other lists.\n",
        "- You can **access elements in a list using zero-based indexing**. Negative indices count from the end of the list.\n",
        "\n",
        "Lists are incredibly useful because -\n",
        "\n",
        "- Lists are perfect for storing collections of related data, such as a list of numbers, names, or dates.\n",
        "- Lists are ideal for iterating over elements using loops, comprehensions, or other iteration methods.\n",
        "- Lists can dynamically expand or shrink in size as elements are added or removed, making them suitable for dynamic data storage.\n"
      ]
    },
    {
      "cell_type": "markdown",
      "metadata": {
        "id": "e3s12i4XNq1G"
      },
      "source": [
        "**Creating a list**"
      ]
    },
    {
      "cell_type": "code",
      "execution_count": null,
      "metadata": {},
      "outputs": [],
      "source": [
        "empty_list = list()\n",
        "empty_list = []\n",
        "print(len(empty_list))"
      ]
    },
    {
      "cell_type": "code",
      "execution_count": null,
      "metadata": {},
      "outputs": [],
      "source": [
        "campaign_metrics = ['Impressions', 'Click-through Rate', 'Conversion Rate', 'ROI', 'Engagement']\n",
        "marketing_strategies = ['Social Media', 'Content Marketing', 'Email Campaigns', 'TV Ads', 'Radio Spots', 'Print Ads']\n",
        "target_demographics = ['Young Adults', 'Parents', 'Seniors', 'Students']\n",
        "social_media = ['Facebook', 'Instagram', 'Twitter', 'LinkedIn','TikTok']\n",
        "\n",
        "# Print the lists and its length\n",
        "print('Campaign metrics:', campaign_metrics)\n",
        "print('Marketing strategies:', marketing_strategies)\n",
        "print('Target demographics:', target_demographics)\n",
        "print('Social media apps:', social_media)\n",
        "print('Number of marketing strategies:', len(marketing_strategies))"
      ]
    },
    {
      "cell_type": "code",
      "execution_count": null,
      "metadata": {
        "id": "W1fy-X8kNf8W"
      },
      "outputs": [],
      "source": [
        "# list of different data types\n",
        "lst = ['Pallav', 250, True] # list containing different data types\n",
        "print(lst)"
      ]
    },
    {
      "cell_type": "markdown",
      "metadata": {
        "id": "rrTF8sIhOQrF"
      },
      "source": [
        "**Accessing different elements of a list**"
      ]
    },
    {
      "cell_type": "code",
      "execution_count": null,
      "metadata": {},
      "outputs": [],
      "source": [
        "campaign_metrics = ['Impressions', 'Click-through Rate', 'Conversion Rate', 'ROI', 'Engagement']"
      ]
    },
    {
      "cell_type": "code",
      "execution_count": null,
      "metadata": {},
      "outputs": [],
      "source": [
        "print(campaign_metrics[0])"
      ]
    },
    {
      "cell_type": "code",
      "execution_count": null,
      "metadata": {},
      "outputs": [],
      "source": [
        "print(campaign_metrics[-4])"
      ]
    },
    {
      "cell_type": "markdown",
      "metadata": {
        "id": "NlWO40g-Ok4i"
      },
      "source": [
        "**Slicing items**"
      ]
    },
    {
      "cell_type": "code",
      "execution_count": null,
      "metadata": {},
      "outputs": [],
      "source": [
        "marketing_strategies = ['Social Media', 'Content Marketing', 'Email Campaigns', 'TV Ads', 'Radio Spots', 'Print Ads']"
      ]
    },
    {
      "cell_type": "code",
      "execution_count": null,
      "metadata": {},
      "outputs": [],
      "source": [
        "print(marketing_strategies[0:4])"
      ]
    },
    {
      "cell_type": "code",
      "execution_count": null,
      "metadata": {},
      "outputs": [],
      "source": [
        "print(marketing_strategies[0:])"
      ]
    },
    {
      "cell_type": "code",
      "execution_count": null,
      "metadata": {},
      "outputs": [],
      "source": [
        "print(marketing_strategies[1:3])"
      ]
    },
    {
      "cell_type": "markdown",
      "metadata": {
        "id": "zeVdBNUZRFLZ"
      },
      "source": [
        "**Modifying lists**"
      ]
    },
    {
      "cell_type": "code",
      "execution_count": null,
      "metadata": {},
      "outputs": [],
      "source": [
        "campaign_metrics = ['Impressions', 'Click-through Rate', 'Conversion Rate', 'ROI', 'Engagement']"
      ]
    },
    {
      "cell_type": "code",
      "execution_count": null,
      "metadata": {},
      "outputs": [],
      "source": [
        "campaign_metrics[0] = 'Customer Impressions'\n",
        "print(campaign_metrics)"
      ]
    },
    {
      "cell_type": "code",
      "execution_count": null,
      "metadata": {
        "colab": {
          "base_uri": "https://localhost:8080/"
        },
        "id": "LqKJxfFKRG3B",
        "outputId": "5c6cedfb-d105-45ca-e85e-c475dedd72eb"
      },
      "outputs": [],
      "source": [
        "campaign_metrics[-1] = 'Online Engagement'\n",
        "print(campaign_metrics)"
      ]
    },
    {
      "cell_type": "markdown",
      "metadata": {
        "id": "Ni3gcJ0fROhZ"
      },
      "source": [
        "**Checking items in a list**"
      ]
    },
    {
      "cell_type": "code",
      "execution_count": null,
      "metadata": {
        "id": "O9x8Wbq32cwy"
      },
      "outputs": [],
      "source": [
        "campaign_metrics = ['Impressions', 'Click-through Rate', 'Conversion Rate', 'ROI', 'Engagement']\n",
        "print('Impressions' in campaign_metrics)"
      ]
    },
    {
      "cell_type": "markdown",
      "metadata": {
        "id": "em6asevlRZlF"
      },
      "source": [
        "**Adding items to a list**\n"
      ]
    },
    {
      "cell_type": "code",
      "execution_count": null,
      "metadata": {
        "id": "thDFQV-uRZDP"
      },
      "outputs": [],
      "source": [
        "digital_strategies = ['Social Media', 'Content Marketing', 'Email Campaigns']\n",
        "digital_strategies.append('SEO Optimization')\n",
        "print(digital_strategies)"
      ]
    },
    {
      "cell_type": "markdown",
      "metadata": {
        "id": "4DQYBO9JSuS3"
      },
      "source": [
        "**Joining lists**"
      ]
    },
    {
      "cell_type": "code",
      "execution_count": null,
      "metadata": {},
      "outputs": [],
      "source": [
        "digital_strategies = ['Social Media', 'Content Marketing', 'Email Campaigns']\n",
        "traditional_strategies = ['TV Ads', 'Radio Spots', 'Print Ads']\n",
        "all_strategies = print(digital_strategies + traditional_strategies)"
      ]
    },
    {
      "cell_type": "markdown",
      "metadata": {
        "id": "f4LSdpwuTGuq"
      },
      "source": [
        "**Finding index of an item**"
      ]
    },
    {
      "cell_type": "code",
      "execution_count": null,
      "metadata": {},
      "outputs": [],
      "source": [
        "target_demographics = ('Young Adults', 'Parents', 'Seniors', 'Students')\n",
        "print(\"The index of 'Parents' is \",target_demographics.index('Parents'))"
      ]
    },
    {
      "cell_type": "code",
      "execution_count": null,
      "metadata": {
        "id": "9rsDV5eoTIy3"
      },
      "outputs": [],
      "source": [
        "campaign_scores = [8.5, 7.2, 9.0, 6.8, 8.9, 7.5, 9.5]\n",
        "print(\"The index of 6.8 is \",campaign_scores.index(6.8))"
      ]
    },
    {
      "cell_type": "markdown",
      "metadata": {
        "id": "sbkm9AWnW8fx"
      },
      "source": [
        "**Sorting a list**"
      ]
    },
    {
      "cell_type": "code",
      "execution_count": null,
      "metadata": {},
      "outputs": [],
      "source": [
        "campaign_scores = [8.5, 7.2, 9.0, 6.8, 8.9, 7.5, 9.5]\n",
        "campaign_scores.sort()\n",
        "print(\"Sorted Campaign Performance Scores (Low to High):\")\n",
        "print(campaign_scores)"
      ]
    },
    {
      "cell_type": "code",
      "execution_count": null,
      "metadata": {
        "id": "XAnTh5_PW9_W"
      },
      "outputs": [],
      "source": [
        "campaign_scores.sort(reverse=True)\n",
        "print(\"Sorted Campaign Performance Scores (High to Low):\")\n",
        "print(campaign_scores)"
      ]
    },
    {
      "cell_type": "markdown",
      "metadata": {
        "id": "MirgfsjHb09P"
      },
      "source": [
        "**Checking for an element in the list**"
      ]
    },
    {
      "cell_type": "code",
      "execution_count": null,
      "metadata": {
        "id": "Cs3c99yYJR-g"
      },
      "outputs": [],
      "source": [
        "social_media = ['Facebook', 'Instagram', 'Twitter', 'LinkedIn']\n",
        "print('Facebook' in social_media)"
      ]
    },
    {
      "cell_type": "markdown",
      "metadata": {
        "id": "ib_gbaVoXRx6"
      },
      "source": [
        "***Tuples***\n",
        "\n",
        "A tuple is a built-in data type that represents an ordered collection of elements, similar to a list. However, there are key differences between tuples and lists that make tuples unique and suitable for specific use cases. Tuples are written with round brackets, `()`.\n",
        "\n",
        "- Tuples maintain the order of elements as they are added. You can access elements by their index, just like in lists.\n",
        "- Tuples are immutable, which means once a tuple is created, you cannot modify its elements, add new elements, or remove existing ones.\n",
        "- Similar to lists, tuple can contain elements of different data types, just like a list and you can access elements in a tuple using zero-based indexing. Negative indices count from the end of the tuple.\n",
        "\n",
        "Tuples are useful when -\n",
        "\n",
        "- Since tuples **are immutable**, they can be used to store data that should not be changed accidentally. This is useful for situations where you want to ensure the integrity of the data.\n",
        "- Tuples can be **easily unpacked into variables**, which makes them useful when working with functions that return multiple values."
      ]
    },
    {
      "cell_type": "code",
      "execution_count": null,
      "metadata": {
        "id": "SM5SGSWqXLxZ"
      },
      "outputs": [],
      "source": [
        "target_demographics = ('Young Adults', 'Parents', 'Seniors', 'Students')"
      ]
    },
    {
      "cell_type": "markdown",
      "metadata": {
        "id": "vpXRgw43aboW"
      },
      "source": [
        "The methods of tuples are exactly similar to lists."
      ]
    },
    {
      "cell_type": "markdown",
      "metadata": {
        "id": "5vDI03n3a3nY"
      },
      "source": [
        "**Changing tuples to list**"
      ]
    },
    {
      "cell_type": "code",
      "execution_count": null,
      "metadata": {
        "id": "zU8fj_W4a6G_"
      },
      "outputs": [],
      "source": [
        "target_demographics = ('Young Adults', 'Parents', 'Seniors', 'Students')\n",
        "target_demographics = list(target_demographics)"
      ]
    }
  ],
  "metadata": {
    "colab": {
      "provenance": []
    },
    "kernelspec": {
      "display_name": "Python 3",
      "name": "python3"
    },
    "language_info": {
      "codemirror_mode": {
        "name": "ipython",
        "version": 3
      },
      "file_extension": ".py",
      "mimetype": "text/x-python",
      "name": "python",
      "nbconvert_exporter": "python",
      "pygments_lexer": "ipython3",
      "version": "3.10.13"
    }
  },
  "nbformat": 4,
  "nbformat_minor": 0
}
